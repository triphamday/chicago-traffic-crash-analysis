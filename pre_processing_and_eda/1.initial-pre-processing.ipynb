{
 "cells": [
  {
   "cell_type": "code",
   "execution_count": 1,
   "metadata": {},
   "outputs": [],
   "source": [
    "import pandas as pd\n",
    "# import findspark\n",
    "# findspark.init()\n",
    "import pyspark\n",
    "from pyspark.sql.functions import *\n",
    "from pyspark.sql import functions as sf\n",
    "from pyspark.sql import SparkSession\n",
    "from pyspark.sql.window import Window\n",
    "import os\n",
    "from datetime import datetime"
   ]
  },
  {
   "cell_type": "code",
   "execution_count": 2,
   "metadata": {},
   "outputs": [],
   "source": [
    "spark = (SparkSession.builder\n",
    "        # .config(\"spark.jars.packages\", \"mysql:mysql-connector-java:8.0.30\")\n",
    "        .config(\"spark.driver.memory\", \"6g\")\n",
    "        .getOrCreate())"
   ]
  },
  {
   "cell_type": "code",
   "execution_count": 3,
   "metadata": {},
   "outputs": [],
   "source": [
    "# crashes = spark.read.csv(\"/home/hien2706/school/nam3_hk1/ds105/do_an/EDA-and-Visualization/data/traffic_crashes_crashes.csv\", header=True, inferSchema=True)\n",
    "# people = spark.read.csv(\"/home/hien2706/school/nam3_hk1/ds105/do_an/EDA-and-Visualization/data/traffic_crashes_people.csv\", header=True, inferSchema=True)\n",
    "# vehicles = spark.read.csv(\"/home/hien2706/school/nam3_hk1/ds105/do_an/EDA-and-Visualization/data/traffic_crashes_vehicles.csv\", header=True, inferSchema=True)"
   ]
  },
  {
   "cell_type": "code",
   "execution_count": 3,
   "metadata": {},
   "outputs": [],
   "source": [
    "crashes = spark.read.option(\"header\", True) \\\n",
    "               .option(\"quote\", '\"') \\\n",
    "               .option(\"escape\", '\"') \\\n",
    "               .option(\"inferSchema\", True) \\\n",
    "               .csv('/home/jovyan/data/traffic_crashes_crashes.csv')\n",
    "people = spark.read.option(\"header\", True) \\\n",
    "               .option(\"quote\", '\"') \\\n",
    "               .option(\"escape\", '\"') \\\n",
    "               .option(\"inferSchema\", True) \\\n",
    "               .csv('/home/jovyan/data/traffic_crashes_people.csv')\n",
    "vehicles = spark.read.option(\"header\", True) \\\n",
    "               .option(\"quote\", '\"') \\\n",
    "               .option(\"escape\", '\"') \\\n",
    "               .option(\"inferSchema\", True) \\\n",
    "               .csv('/home/jovyan/data/traffic_crashes_vehicles.csv')"
   ]
  },
  {
   "cell_type": "code",
   "execution_count": 4,
   "metadata": {},
   "outputs": [],
   "source": [
    "# crashes = spark.read.csv(\"/home/jovyan/data/traffic_crashes_crashes.csv\", header=True, inferSchema=True, quote='\"')\n",
    "# people = spark.read.csv(\"/home/jovyan/data/traffic_crashes_people.csv\", header=True, inferSchema=True, quote='\"')\n",
    "# vehicles = spark.read.csv(\"/home/jovyan/data/traffic_crashes_vehicles.csv\", header=True, inferSchema=True, quote='\"')"
   ]
  },
  {
   "cell_type": "code",
   "execution_count": 4,
   "metadata": {},
   "outputs": [],
   "source": [
    "def filter_recent_data(df, date_column):\n",
    "    # Convert the date column to timestamp format and filter for the desired date range\n",
    "    df = df.withColumn(date_column, sf.to_timestamp(sf.col(date_column), \"M/d/yyyy h:mm:ss a\"))\n",
    "    filtered_df = df.filter(\n",
    "        (sf.year(sf.col(date_column)) >= 2022) \n",
    "        # & (sf.to_date(sf.col(date_column)) <= sf.lit(\"2024-10-06\"))\n",
    "    )\n",
    "    return filtered_df"
   ]
  },
  {
   "cell_type": "code",
   "execution_count": 5,
   "metadata": {},
   "outputs": [],
   "source": [
    "def drop_columns_with_missing_data(df, threshold=0.5):\n",
    "    \"\"\"\n",
    "    Drop columns from DataFrame where the percentage of missing values exceeds the threshold.\n",
    "\n",
    "    Parameters:\n",
    "    df (DataFrame): The input DataFrame.\n",
    "    threshold (float): The threshold for missing values, default is 0.5 (50%).\n",
    "\n",
    "    Returns:\n",
    "    DataFrame: A DataFrame with columns having missing values below the threshold.\n",
    "    \"\"\"\n",
    "    # Calculate the total number of rows in the DataFrame\n",
    "    total_rows = df.count()\n",
    "    \n",
    "    # Get a list of columns to drop based on missing value percentage\n",
    "    columns_to_drop = []\n",
    "    for col_name in df.columns:\n",
    "        missing_count = df.filter(\n",
    "            (sf.col(col_name).isNull())  |\n",
    "            (sf.col(col_name) == \"NULL\") | \n",
    "            (sf.col(col_name) == \"UNKNOWN\")).count()\n",
    "        missing_percentage = missing_count / total_rows\n",
    "        if missing_percentage > threshold:\n",
    "            columns_to_drop.append(col_name)\n",
    "\n",
    "    # Drop the identified columns\n",
    "    return df.drop(*columns_to_drop)"
   ]
  },
  {
   "cell_type": "code",
   "execution_count": 6,
   "metadata": {},
   "outputs": [],
   "source": [
    "def drop_unnecessary_columns(df, relevant_columns):\n",
    "    \"\"\"\n",
    "    Drop columns from DataFrame that are not in the list of relevant columns.\n",
    "\n",
    "    Parameters:\n",
    "    df (DataFrame): The input DataFrame.\n",
    "    relevant_columns (list): A list of columns to keep.\n",
    "\n",
    "    Returns:\n",
    "    DataFrame: A DataFrame with only relevant columns.\n",
    "    \"\"\"\n",
    "    all_columns = df.columns\n",
    "    columns_to_drop = [col for col in all_columns if col not in relevant_columns]\n",
    "    return df.drop(*columns_to_drop)"
   ]
  },
  {
   "cell_type": "code",
   "execution_count": 7,
   "metadata": {},
   "outputs": [],
   "source": [
    "filtered_crashes = filter_recent_data(crashes, \"CRASH_DATE\")\n",
    "filtered_people = filter_recent_data(people, \"CRASH_DATE\")\n",
    "filtered_vehicles = filter_recent_data(vehicles, \"CRASH_DATE\")"
   ]
  },
  {
   "cell_type": "code",
   "execution_count": 8,
   "metadata": {},
   "outputs": [],
   "source": [
    "filtered_crashes = drop_columns_with_missing_data(df = filtered_crashes, threshold=0.6)\n",
    "filtered_people = drop_columns_with_missing_data(df = filtered_people, threshold=0.6)\n",
    "filtered_vehicles = drop_columns_with_missing_data(df = filtered_vehicles, threshold=0.6)\n"
   ]
  },
  {
   "cell_type": "code",
   "execution_count": 9,
   "metadata": {},
   "outputs": [],
   "source": [
    "relevant_crashes_columns = [\n",
    "    'CRASH_RECORD_ID', 'CRASH_DATE', 'POSTED_SPEED_LIMIT', 'TRAFFIC_CONTROL_DEVICE', \n",
    "    'DEVICE_CONDITION', 'WEATHER_CONDITION', 'LIGHTING_CONDITION', 'FIRST_CRASH_TYPE', \n",
    "    'TRAFFICWAY_TYPE', 'ALIGNMENT', 'ROADWAY_SURFACE_COND', 'ROAD_DEFECT', \n",
    "    'CRASH_TYPE', 'DAMAGE', 'PRIM_CONTRIBUTORY_CAUSE', 'SEC_CONTRIBUTORY_CAUSE', \n",
    "    'NUM_UNITS', 'MOST_SEVERE_INJURY', 'INJURIES_TOTAL', 'INJURIES_FATAL', \n",
    "    'CRASH_HOUR', 'CRASH_DAY_OF_WEEK', 'CRASH_MONTH', 'LATITUDE', 'LONGITUDE'\n",
    "]"
   ]
  },
  {
   "cell_type": "code",
   "execution_count": 10,
   "metadata": {},
   "outputs": [],
   "source": [
    "relevant_vehicles_columns = [\n",
    "    'CRASH_UNIT_ID',\n",
    "    'CRASH_RECORD_ID',\n",
    "    'CRASH_DATE',\n",
    "    'UNIT_NO',\n",
    "    'UNIT_TYPE',\n",
    "    'VEHICLE_ID',\n",
    "    'MAKE',\n",
    "    'MODEL',\n",
    "    'LIC_PLATE_STATE',\n",
    "    'VEHICLE_YEAR',\n",
    "    'VEHICLE_DEFECT',\n",
    "    'VEHICLE_TYPE',\n",
    "    'VEHICLE_USE',\n",
    "    'TRAVEL_DIRECTION',\n",
    "    'MANEUVER',\n",
    "    'OCCUPANT_CNT',\n",
    "    'FIRST_CONTACT_POINT'\n",
    "]"
   ]
  },
  {
   "cell_type": "code",
   "execution_count": 11,
   "metadata": {},
   "outputs": [],
   "source": [
    "relevant_people_columns = [\n",
    "    'PERSON_ID',\n",
    "    'PERSON_TYPE',\n",
    "    'CRASH_RECORD_ID',\n",
    "    'VEHICLE_ID',\n",
    "    'CRASH_DATE',\n",
    "    'CITY',\n",
    "    'STATE',\n",
    "    'ZIPCODE',\n",
    "    'SEX',\n",
    "    'AGE',\n",
    "    'DRIVERS_LICENSE_STATE',\n",
    "    'DRIVERS_LICENSE_CLASS',\n",
    "    'SAFETY_EQUIPMENT',\n",
    "    'AIRBAG_DEPLOYED',\n",
    "    'EJECTION',\n",
    "    'INJURY_CLASSIFICATION',\n",
    "    'DRIVER_ACTION',\n",
    "    'DRIVER_VISION',\n",
    "    'PHYSICAL_CONDITION',\n",
    "    'BAC_RESULT'\n",
    "]"
   ]
  },
  {
   "cell_type": "code",
   "execution_count": 12,
   "metadata": {},
   "outputs": [],
   "source": [
    "filtered_crashes = drop_unnecessary_columns(filtered_crashes, relevant_crashes_columns)\n",
    "filtered_vehicles = drop_unnecessary_columns(filtered_vehicles, relevant_vehicles_columns)\n",
    "filtered_people = drop_unnecessary_columns(filtered_people, relevant_people_columns)"
   ]
  },
  {
   "cell_type": "code",
   "execution_count": 13,
   "metadata": {},
   "outputs": [
    {
     "data": {
      "text/plain": [
       "304907"
      ]
     },
     "execution_count": 13,
     "metadata": {},
     "output_type": "execute_result"
    }
   ],
   "source": [
    "filtered_crashes.count()"
   ]
  },
  {
   "cell_type": "code",
   "execution_count": 14,
   "metadata": {},
   "outputs": [
    {
     "data": {
      "text/plain": [
       "667725"
      ]
     },
     "execution_count": 14,
     "metadata": {},
     "output_type": "execute_result"
    }
   ],
   "source": [
    "filtered_people.count()"
   ]
  },
  {
   "cell_type": "code",
   "execution_count": 15,
   "metadata": {},
   "outputs": [
    {
     "data": {
      "text/plain": [
       "622751"
      ]
     },
     "execution_count": 15,
     "metadata": {},
     "output_type": "execute_result"
    }
   ],
   "source": [
    "filtered_vehicles.count()"
   ]
  },
  {
   "cell_type": "code",
   "execution_count": 16,
   "metadata": {},
   "outputs": [
    {
     "data": {
      "text/plain": [
       "25"
      ]
     },
     "execution_count": 16,
     "metadata": {},
     "output_type": "execute_result"
    }
   ],
   "source": [
    "len(filtered_crashes.columns)"
   ]
  },
  {
   "cell_type": "code",
   "execution_count": 17,
   "metadata": {},
   "outputs": [
    {
     "data": {
      "text/plain": [
       "17"
      ]
     },
     "execution_count": 17,
     "metadata": {},
     "output_type": "execute_result"
    }
   ],
   "source": [
    "len(filtered_vehicles.columns)"
   ]
  },
  {
   "cell_type": "code",
   "execution_count": 18,
   "metadata": {},
   "outputs": [
    {
     "data": {
      "text/plain": [
       "19"
      ]
     },
     "execution_count": 18,
     "metadata": {},
     "output_type": "execute_result"
    }
   ],
   "source": [
    "len(filtered_people.columns)"
   ]
  },
  {
   "cell_type": "code",
   "execution_count": 19,
   "metadata": {},
   "outputs": [
    {
     "data": {
      "text/plain": [
       "61"
      ]
     },
     "execution_count": 19,
     "metadata": {},
     "output_type": "execute_result"
    }
   ],
   "source": [
    "len(filtered_crashes.columns) + len(filtered_vehicles.columns) + len(filtered_people.columns)"
   ]
  },
  {
   "cell_type": "code",
   "execution_count": 20,
   "metadata": {},
   "outputs": [
    {
     "name": "stdout",
     "output_type": "stream",
     "text": [
      "+--------------------------------------------------------------------------------------------------------------------------------+-------------------+------------------+----------------------+--------------------+-----------------+----------------------+------------------------+-------------------------------+------------------+--------------------+-----------+--------------------------------+-------------+--------------------------------------+--------------------------------------------------------------------------------+---------+------------------------+--------------+--------------+----------+-----------------+-----------+------------+-------------+\n",
      "|CRASH_RECORD_ID                                                                                                                 |CRASH_DATE         |POSTED_SPEED_LIMIT|TRAFFIC_CONTROL_DEVICE|DEVICE_CONDITION    |WEATHER_CONDITION|LIGHTING_CONDITION    |FIRST_CRASH_TYPE        |TRAFFICWAY_TYPE                |ALIGNMENT         |ROADWAY_SURFACE_COND|ROAD_DEFECT|CRASH_TYPE                      |DAMAGE       |PRIM_CONTRIBUTORY_CAUSE               |SEC_CONTRIBUTORY_CAUSE                                                          |NUM_UNITS|MOST_SEVERE_INJURY      |INJURIES_TOTAL|INJURIES_FATAL|CRASH_HOUR|CRASH_DAY_OF_WEEK|CRASH_MONTH|LATITUDE    |LONGITUDE    |\n",
      "+--------------------------------------------------------------------------------------------------------------------------------+-------------------+------------------+----------------------+--------------------+-----------------+----------------------+------------------------+-------------------------------+------------------+--------------------+-----------+--------------------------------+-------------+--------------------------------------+--------------------------------------------------------------------------------+---------+------------------------+--------------+--------------+----------+-----------------+-----------+------------+-------------+\n",
      "|23a79931ef555d54118f64dc9be2cf2dbf59636ce253f7a1179c4a1c091442a6eeab8352220c7c56ca1ff7c4b4b0fc345c74e3e85ecb9d43deeb66b5f803d4a0|2023-09-05 19:05:00|30                |TRAFFIC SIGNAL        |FUNCTIONING PROPERLY|CLEAR            |DUSK                  |ANGLE                   |FIVE POINT, OR MORE            |STRAIGHT AND LEVEL|DRY                 |NO DEFECTS |INJURY AND / OR TOW DUE TO CRASH|OVER $1,500  |UNABLE TO DETERMINE                   |NOT APPLICABLE                                                                  |2        |INCAPACITATING INJURY   |3             |0             |19        |3                |9          |NULL        |NULL         |\n",
      "|2675c13fd0f474d730a5b780968b3cafc7c12d7adb661fa8a3093c0658d5a0d51b720fc9e031a1ddd83c761a8e2aa7283573557db246f4c9e956aaa58719cacf|2023-09-22 18:45:00|50                |NO CONTROLS           |NO CONTROLS         |CLEAR            |DARKNESS, LIGHTED ROAD|REAR END                |DIVIDED - W/MEDIAN BARRIER     |STRAIGHT AND LEVEL|DRY                 |NO DEFECTS |NO INJURY / DRIVE AWAY          |OVER $1,500  |FOLLOWING TOO CLOSELY                 |FOLLOWING TOO CLOSELY                                                           |2        |NO INDICATION OF INJURY |0             |0             |18        |6                |9          |NULL        |NULL         |\n",
      "|5f54a59fcb087b12ae5b1acff96a3caf4f2d37e79f8db4106558b34b8a6d2b81af02cf91b576ecd7ced08ffd10fcfd940a84f7613125b89d33636e6075064e22|2023-07-29 14:45:00|30                |TRAFFIC SIGNAL        |FUNCTIONING PROPERLY|CLEAR            |DAYLIGHT              |PARKED MOTOR VEHICLE    |DIVIDED - W/MEDIAN (NOT RAISED)|STRAIGHT AND LEVEL|DRY                 |NO DEFECTS |NO INJURY / DRIVE AWAY          |OVER $1,500  |FAILING TO REDUCE SPEED TO AVOID CRASH|OPERATING VEHICLE IN ERRATIC, RECKLESS, CARELESS, NEGLIGENT OR AGGRESSIVE MANNER|4        |NO INDICATION OF INJURY |0             |0             |14        |7                |7          |41.854120263|-87.665902343|\n",
      "|7ebf015016f83d09b321afd671a836d6b148330535d5df85f232edb575a7f2a42e61b9747067e89c4e7a73e69efc819c9003ed153e19765f2ecc6f7b2421c98d|2023-08-09 23:00:00|30                |NO CONTROLS           |NO CONTROLS         |CLEAR            |DARKNESS, LIGHTED ROAD|SIDESWIPE SAME DIRECTION|NOT DIVIDED                    |STRAIGHT AND LEVEL|DRY                 |NO DEFECTS |NO INJURY / DRIVE AWAY          |OVER $1,500  |FAILING TO YIELD RIGHT-OF-WAY         |NOT APPLICABLE                                                                  |2        |NO INDICATION OF INJURY |0             |0             |23        |4                |8          |NULL        |NULL         |\n",
      "|6c1659069e9c6285a650e70d6f9b574ed5f64c12888479093dfeef179c0344ec6d2057eae224b5c0d5dfc278c0a237f8c22543f07fdef2e4a95a3849871c9345|2023-08-18 12:50:00|15                |OTHER                 |FUNCTIONING PROPERLY|CLEAR            |DAYLIGHT              |REAR END                |OTHER                          |STRAIGHT AND LEVEL|DRY                 |NO DEFECTS |INJURY AND / OR TOW DUE TO CRASH|OVER $1,500  |FOLLOWING TOO CLOSELY                 |DISTRACTION - FROM INSIDE VEHICLE                                               |2        |NONINCAPACITATING INJURY|1             |0             |12        |6                |8          |NULL        |NULL         |\n",
      "|35156ce97cab22747495e92e8bbb16c57e0e60dc3ce6d1f1852f2f7cece07c7ae825b073b286b1da52dfa58082ff6d763ecf1f13f06a223c7aed2b6c1e8c5972|2023-02-06 17:30:00|30                |NO CONTROLS           |NO CONTROLS         |CLEAR            |DARKNESS, LIGHTED ROAD|REAR END                |ONE-WAY                        |CURVE, LEVEL      |DRY                 |NO DEFECTS |NO INJURY / DRIVE AWAY          |$501 - $1,500|UNABLE TO DETERMINE                   |UNABLE TO DETERMINE                                                             |2        |NO INDICATION OF INJURY |0             |0             |17        |2                |2          |NULL        |NULL         |\n",
      "|359bf9f5872d646bb63576e55b1e0b480dc93c2b935ab571dc26ddb48b7a328fbfe130ae70bbff9f03787041b6fb029ba02529da9a1f57494e385ec0e13ed834|2022-01-31 19:45:00|25                |NO CONTROLS           |NO CONTROLS         |CLEAR            |DARKNESS              |REAR END                |ONE-WAY                        |STRAIGHT AND LEVEL|DRY                 |NO DEFECTS |NO INJURY / DRIVE AWAY          |$501 - $1,500|NOT APPLICABLE                        |NOT APPLICABLE                                                                  |2        |NO INDICATION OF INJURY |0             |0             |19        |2                |1          |NULL        |NULL         |\n",
      "|36360857c079418cba1b1d70cf653595bbfb4566de8fcb4fff284d6ec2ef9eee82b949759fd83f4ba3df857fed548f769780b036df6ada65aa935b6c669cec53|2022-01-01 16:32:00|10                |NO CONTROLS           |NO CONTROLS         |SNOW             |DARKNESS, LIGHTED ROAD|ANGLE                   |PARKING LOT                    |STRAIGHT AND LEVEL|SNOW OR SLUSH       |NO DEFECTS |NO INJURY / DRIVE AWAY          |$501 - $1,500|WEATHER                               |NOT APPLICABLE                                                                  |2        |NO INDICATION OF INJURY |0             |0             |16        |7                |1          |NULL        |NULL         |\n",
      "|b236c77d59e32b7b469a6e2f17f438b7457e1bd8bc689b14cb4f5b1590cbe784f2b9e554b41925797251cbd3e93a3f4a131d1923b327673d441ae79c052f79c2|2023-07-29 13:00:00|30                |TRAFFIC SIGNAL        |FUNCTIONING PROPERLY|CLEAR            |DAYLIGHT              |TURNING                 |NOT DIVIDED                    |STRAIGHT AND LEVEL|UNKNOWN             |UNKNOWN    |NO INJURY / DRIVE AWAY          |$501 - $1,500|UNABLE TO DETERMINE                   |UNABLE TO DETERMINE                                                             |2        |NO INDICATION OF INJURY |0             |0             |13        |7                |7          |NULL        |NULL         |\n",
      "|0e208d23344f0d1b3a9fcd4bb07676a750ddb73c397b5c398a33743fd0d49b8ce737c7740b1a77cdaebd61e8e79bddb284452d744b16668f9777f256eec28ff5|2023-08-13 13:30:00|35                |NO CONTROLS           |FUNCTIONING PROPERLY|CLEAR            |DAYLIGHT              |ANGLE                   |OTHER                          |STRAIGHT AND LEVEL|DRY                 |NO DEFECTS |NO INJURY / DRIVE AWAY          |OVER $1,500  |IMPROPER BACKING                      |UNABLE TO DETERMINE                                                             |2        |NO INDICATION OF INJURY |0             |0             |13        |1                |8          |NULL        |NULL         |\n",
      "+--------------------------------------------------------------------------------------------------------------------------------+-------------------+------------------+----------------------+--------------------+-----------------+----------------------+------------------------+-------------------------------+------------------+--------------------+-----------+--------------------------------+-------------+--------------------------------------+--------------------------------------------------------------------------------+---------+------------------------+--------------+--------------+----------+-----------------+-----------+------------+-------------+\n",
      "only showing top 10 rows\n",
      "\n"
     ]
    }
   ],
   "source": [
    "filtered_crashes.show(10, truncate=False)\n"
   ]
  },
  {
   "cell_type": "code",
   "execution_count": 21,
   "metadata": {},
   "outputs": [
    {
     "name": "stdout",
     "output_type": "stream",
     "text": [
      "root\n",
      " |-- CRASH_RECORD_ID: string (nullable = true)\n",
      " |-- CRASH_DATE: timestamp (nullable = true)\n",
      " |-- POSTED_SPEED_LIMIT: integer (nullable = true)\n",
      " |-- TRAFFIC_CONTROL_DEVICE: string (nullable = true)\n",
      " |-- DEVICE_CONDITION: string (nullable = true)\n",
      " |-- WEATHER_CONDITION: string (nullable = true)\n",
      " |-- LIGHTING_CONDITION: string (nullable = true)\n",
      " |-- FIRST_CRASH_TYPE: string (nullable = true)\n",
      " |-- TRAFFICWAY_TYPE: string (nullable = true)\n",
      " |-- ALIGNMENT: string (nullable = true)\n",
      " |-- ROADWAY_SURFACE_COND: string (nullable = true)\n",
      " |-- ROAD_DEFECT: string (nullable = true)\n",
      " |-- CRASH_TYPE: string (nullable = true)\n",
      " |-- DAMAGE: string (nullable = true)\n",
      " |-- PRIM_CONTRIBUTORY_CAUSE: string (nullable = true)\n",
      " |-- SEC_CONTRIBUTORY_CAUSE: string (nullable = true)\n",
      " |-- NUM_UNITS: integer (nullable = true)\n",
      " |-- MOST_SEVERE_INJURY: string (nullable = true)\n",
      " |-- INJURIES_TOTAL: integer (nullable = true)\n",
      " |-- INJURIES_FATAL: integer (nullable = true)\n",
      " |-- CRASH_HOUR: integer (nullable = true)\n",
      " |-- CRASH_DAY_OF_WEEK: integer (nullable = true)\n",
      " |-- CRASH_MONTH: integer (nullable = true)\n",
      " |-- LATITUDE: double (nullable = true)\n",
      " |-- LONGITUDE: double (nullable = true)\n",
      "\n"
     ]
    }
   ],
   "source": [
    "# show data types\n",
    "filtered_crashes.printSchema()"
   ]
  },
  {
   "cell_type": "code",
   "execution_count": 22,
   "metadata": {},
   "outputs": [
    {
     "name": "stdout",
     "output_type": "stream",
     "text": [
      "root\n",
      " |-- CRASH_UNIT_ID: integer (nullable = true)\n",
      " |-- CRASH_RECORD_ID: string (nullable = true)\n",
      " |-- CRASH_DATE: timestamp (nullable = true)\n",
      " |-- UNIT_NO: integer (nullable = true)\n",
      " |-- UNIT_TYPE: string (nullable = true)\n",
      " |-- VEHICLE_ID: integer (nullable = true)\n",
      " |-- MAKE: string (nullable = true)\n",
      " |-- MODEL: string (nullable = true)\n",
      " |-- LIC_PLATE_STATE: string (nullable = true)\n",
      " |-- VEHICLE_YEAR: integer (nullable = true)\n",
      " |-- VEHICLE_DEFECT: string (nullable = true)\n",
      " |-- VEHICLE_TYPE: string (nullable = true)\n",
      " |-- VEHICLE_USE: string (nullable = true)\n",
      " |-- TRAVEL_DIRECTION: string (nullable = true)\n",
      " |-- MANEUVER: string (nullable = true)\n",
      " |-- OCCUPANT_CNT: integer (nullable = true)\n",
      " |-- FIRST_CONTACT_POINT: string (nullable = true)\n",
      "\n"
     ]
    }
   ],
   "source": [
    "filtered_vehicles.printSchema()"
   ]
  },
  {
   "cell_type": "code",
   "execution_count": 23,
   "metadata": {},
   "outputs": [
    {
     "name": "stdout",
     "output_type": "stream",
     "text": [
      "root\n",
      " |-- PERSON_ID: string (nullable = true)\n",
      " |-- PERSON_TYPE: string (nullable = true)\n",
      " |-- CRASH_RECORD_ID: string (nullable = true)\n",
      " |-- VEHICLE_ID: integer (nullable = true)\n",
      " |-- CRASH_DATE: timestamp (nullable = true)\n",
      " |-- CITY: string (nullable = true)\n",
      " |-- STATE: string (nullable = true)\n",
      " |-- ZIPCODE: string (nullable = true)\n",
      " |-- SEX: string (nullable = true)\n",
      " |-- AGE: integer (nullable = true)\n",
      " |-- DRIVERS_LICENSE_STATE: string (nullable = true)\n",
      " |-- DRIVERS_LICENSE_CLASS: string (nullable = true)\n",
      " |-- SAFETY_EQUIPMENT: string (nullable = true)\n",
      " |-- AIRBAG_DEPLOYED: string (nullable = true)\n",
      " |-- EJECTION: string (nullable = true)\n",
      " |-- INJURY_CLASSIFICATION: string (nullable = true)\n",
      " |-- DRIVER_ACTION: string (nullable = true)\n",
      " |-- PHYSICAL_CONDITION: string (nullable = true)\n",
      " |-- BAC_RESULT: string (nullable = true)\n",
      "\n"
     ]
    }
   ],
   "source": [
    "filtered_people.printSchema()"
   ]
  },
  {
   "cell_type": "code",
   "execution_count": 26,
   "metadata": {},
   "outputs": [
    {
     "name": "stdout",
     "output_type": "stream",
     "text": [
      "+-------------------+\n",
      "|         CRASH_DATE|\n",
      "+-------------------+\n",
      "|2022-01-01 00:00:00|\n",
      "|2022-01-01 00:00:00|\n",
      "|2022-01-01 00:01:00|\n",
      "|2022-01-01 00:13:00|\n",
      "|2022-01-01 00:16:00|\n",
      "|2022-01-01 00:25:00|\n",
      "|2022-01-01 00:30:00|\n",
      "|2022-01-01 00:30:00|\n",
      "|2022-01-01 00:45:00|\n",
      "|2022-01-01 00:51:00|\n",
      "|2022-01-01 00:52:00|\n",
      "|2022-01-01 00:53:00|\n",
      "|2022-01-01 01:00:00|\n",
      "|2022-01-01 01:00:00|\n",
      "|2022-01-01 01:00:00|\n",
      "|2022-01-01 01:05:00|\n",
      "|2022-01-01 01:10:00|\n",
      "|2022-01-01 01:12:00|\n",
      "|2022-01-01 01:25:00|\n",
      "|2022-01-01 01:25:00|\n",
      "+-------------------+\n",
      "only showing top 20 rows\n",
      "\n"
     ]
    }
   ],
   "source": [
    "filtered_crashes.select(\"CRASH_DATE\").orderBy(\"CRASH_DATE\", ascending=True).show()"
   ]
  },
  {
   "cell_type": "code",
   "execution_count": 33,
   "metadata": {},
   "outputs": [],
   "source": [
    "output_path_crashes = \"/home/jovyan/data/filtered_crashes\"\n",
    "output_path_people = \"/home/jovyan/data/filtered_people\"\n",
    "output_path_vehicles = \"/home/jovyan/data/filtered_vehicles\""
   ]
  },
  {
   "cell_type": "code",
   "execution_count": 34,
   "metadata": {},
   "outputs": [],
   "source": [
    "filtered_crashes.coalesce(1).write.option(\"header\", True) \\\n",
    "                   .option(\"quote\", '\"') \\\n",
    "                   .option(\"escape\", '\"') \\\n",
    "                   .option(\"sep\", \",\") \\\n",
    "                   .mode(\"overwrite\") \\\n",
    "                   .csv(output_path_crashes)\n",
    "filtered_people.coalesce(1).write.option(\"header\", True) \\\n",
    "                   .option(\"quote\", '\"') \\\n",
    "                   .option(\"escape\", '\"') \\\n",
    "                   .option(\"sep\", \",\") \\\n",
    "                   .mode(\"overwrite\") \\\n",
    "                   .csv(output_path_people)\n",
    "filtered_vehicles.coalesce(1).write.option(\"header\", True) \\\n",
    "                   .option(\"quote\", '\"') \\\n",
    "                   .option(\"escape\", '\"') \\\n",
    "                   .option(\"sep\", \",\") \\\n",
    "                   .mode(\"overwrite\") \\\n",
    "                   .csv(output_path_vehicles)"
   ]
  },
  {
   "cell_type": "code",
   "execution_count": 27,
   "metadata": {},
   "outputs": [],
   "source": []
  }
 ],
 "metadata": {
  "kernelspec": {
   "display_name": "Python 3 (ipykernel)",
   "language": "python",
   "name": "python3"
  },
  "language_info": {
   "codemirror_mode": {
    "name": "ipython",
    "version": 3
   },
   "file_extension": ".py",
   "mimetype": "text/x-python",
   "name": "python",
   "nbconvert_exporter": "python",
   "pygments_lexer": "ipython3",
   "version": "3.11.6"
  }
 },
 "nbformat": 4,
 "nbformat_minor": 4
}
